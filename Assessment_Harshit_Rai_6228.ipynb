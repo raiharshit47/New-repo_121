{
  "cells": [
    {
      "cell_type": "markdown",
      "metadata": {
        "id": "ZcIV5aYhQvOP"
      },
      "source": [
        "#### Timeline to submit the assessment\n",
        "    - all questions needs to be solved creating a function\n",
        "    - test it using different scenarios at your end\n",
        "    - need to submit this by 20th March\n",
        "    - submit it on google classroom (in .ipynb file format)"
      ]
    },
    {
      "cell_type": "markdown",
      "metadata": {
        "id": "UmWhrL2xQvOY"
      },
      "source": [
        "#### 1. Creating a User Database with CSV Files"
      ]
    },
    {
      "cell_type": "code",
      "source": [
        "def user_database():\n",
        "    while True:\n",
        "        more = input('Want to add details? ')\n",
        "        \n",
        "        if more == 'Yes' or more == 'yes':\n",
        "            name = input('Enter your name: ')\n",
        "            with open('new_file.csv', 'a') as nf:\n",
        "                nf.write(name)\n",
        "                nf.close()\n",
        "                email = input('Enter your email: ')\n",
        "                with open('new_file.csv', 'a') as nf:\n",
        "                    nf.write(email)\n",
        "                    phone = input('Enter your contact Number: ')\n",
        "                    with open('new_file.csv', 'a') as nf:\n",
        "                        nf.write(phone)\n",
        "                        nf.close()\n",
        "\n",
        "        else:\n",
        "             break"
      ],
      "metadata": {
        "id": "PBqybP3JKFMZ"
      },
      "execution_count": null,
      "outputs": []
    },
    {
      "cell_type": "code",
      "source": [
        "user_database()"
      ],
      "metadata": {
        "colab": {
          "base_uri": "https://localhost:8080/"
        },
        "id": "TUi8a8oofiet",
        "outputId": "03d091af-c644-4bcd-c3ce-33eb84a1fe44"
      },
      "execution_count": null,
      "outputs": [
        {
          "name": "stdout",
          "output_type": "stream",
          "text": [
            "Want to add details? Yes\n",
            "Enter your name: Harshit\n",
            "Enter your email: lahdh\n",
            "Enter your contact Number: 234234234\n",
            "Want to add details? Yes\n",
            "Enter your name: ewejfsj\n",
            "Enter your email: 209429\n",
            "Enter your contact Number: 048230\n",
            "Want to add details? No\n"
          ]
        }
      ]
    },
    {
      "cell_type": "markdown",
      "metadata": {
        "id": "iIzPdcnfQvOe"
      },
      "source": [
        "#### 2. Write a Python function that accepts a string and calculates the number of upper case letters and lower case letters."
      ]
    },
    {
      "cell_type": "code",
      "source": [
        "def upper_lower(a):\n",
        "  a1 = []\n",
        "  a2 = []\n",
        "  for i in a:\n",
        "    if i == i.lower():\n",
        "      a1.append(i)\n",
        "    else:\n",
        "      a2.append(i)\n",
        "  print(\"No of lower case characters: \", len(a1)-a1.count(' '))\n",
        "  print(\"No of upper case characters: \", len(a2))"
      ],
      "metadata": {
        "id": "8nVmh_NSU_Tt"
      },
      "execution_count": null,
      "outputs": []
    },
    {
      "cell_type": "code",
      "source": [
        "upper_lower('I love PYTHON Programming')"
      ],
      "metadata": {
        "colab": {
          "base_uri": "https://localhost:8080/"
        },
        "id": "PMnXfg8jcRnJ",
        "outputId": "e491a122-801b-4437-fa21-6ff4792a696c"
      },
      "execution_count": null,
      "outputs": [
        {
          "output_type": "stream",
          "name": "stdout",
          "text": [
            "No of lower case characters:  14\n",
            "No of upper case characters:  8\n"
          ]
        }
      ]
    },
    {
      "cell_type": "markdown",
      "metadata": {
        "id": "cVowvZISQvOg"
      },
      "source": [
        "#### 3. List Remove \n",
        "### Duplicates Write a program (function!) that takes a list and returns a new list that contains all the elements of the first list minus all the duplicates."
      ]
    },
    {
      "cell_type": "code",
      "source": [
        "def clean_list(a):\n",
        "  clean_l = []\n",
        "  for i in a:\n",
        "    if a.count(i) < 2:\n",
        "      clean_l.append(i)\n",
        "  print(clean_l)"
      ],
      "metadata": {
        "id": "uYsQH52lc8Jb"
      },
      "execution_count": null,
      "outputs": []
    },
    {
      "cell_type": "code",
      "source": [
        "clean_list([1,2,3,3,4])"
      ],
      "metadata": {
        "colab": {
          "base_uri": "https://localhost:8080/"
        },
        "id": "JsTKyqeReIz4",
        "outputId": "6c504cae-ea98-4cee-b25f-262a01f082ce"
      },
      "execution_count": null,
      "outputs": [
        {
          "output_type": "stream",
          "name": "stdout",
          "text": [
            "[1, 2, 4]\n"
          ]
        }
      ]
    },
    {
      "cell_type": "markdown",
      "metadata": {
        "id": "y91CrFwuQvOj"
      },
      "source": [
        "#### 4. List Ends \n",
        "### Write a program that takes a list of numbers (for example, a = [5, 10, 15, 20, 25]) and makes a new list of only the first and last elements of the given list. For practice, write this code inside a function."
      ]
    },
    {
      "cell_type": "code",
      "source": [
        "def fl_list(fl):\n",
        "  fl_list = []\n",
        "  fl_list.append(fl[0])\n",
        "  fl_list.append(fl[-1])\n",
        "  print(fl_list)"
      ],
      "metadata": {
        "id": "PPNzMTIhUdh9"
      },
      "execution_count": null,
      "outputs": []
    },
    {
      "cell_type": "code",
      "source": [
        "fl_list([1,2,3,4,5])"
      ],
      "metadata": {
        "id": "2D6no3jkUsu9",
        "outputId": "432ac4d2-347d-4d56-dece-54a7cf395262",
        "colab": {
          "base_uri": "https://localhost:8080/"
        }
      },
      "execution_count": null,
      "outputs": [
        {
          "output_type": "stream",
          "name": "stdout",
          "text": [
            "[1, 5]\n"
          ]
        }
      ]
    }
  ],
  "metadata": {
    "kernelspec": {
      "display_name": "Python 3",
      "language": "python",
      "name": "python3"
    },
    "language_info": {
      "codemirror_mode": {
        "name": "ipython",
        "version": 3
      },
      "file_extension": ".py",
      "mimetype": "text/x-python",
      "name": "python",
      "nbconvert_exporter": "python",
      "pygments_lexer": "ipython3",
      "version": "3.5.5"
    },
    "colab": {
      "name": "Assessment Harshit Rai 6228.ipynb",
      "provenance": [],
      "collapsed_sections": []
    }
  },
  "nbformat": 4,
  "nbformat_minor": 0
}